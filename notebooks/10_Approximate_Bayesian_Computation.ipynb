{
 "cells": [
  {
   "cell_type": "code",
   "execution_count": 1,
   "metadata": {
    "collapsed": false,
    "jupyter": {
     "outputs_hidden": false
    }
   },
   "outputs": [],
   "source": [
    "import numpy as np\n",
    "from scipy import stats\n",
    "import matplotlib.pyplot as plt\n",
    "import pandas as pd\n",
    "#%qtconsole"
   ]
  },
  {
   "cell_type": "markdown",
   "metadata": {},
   "source": [
    "# 10 Approximate Bayesian Computation\n",
    "\n",
    "## 10.1 The Variability Hypothesis\n",
    "\n",
    "I have a soft spot for crank science. Recently I visited Norumbega\n",
    "Tower, which is an enduring monument to the crackpot theories of Eben\n",
    "Norton Horsford, inventor of double-acting baking powder and fake\n",
    "history. But that’s not what this chapter is about.\n",
    "\n",
    "This chapter is about the Variability Hypothesis, which\n",
    "\n",
    "> “originated in the early nineteenth century with Johann Meckel, who\n",
    "> argued that males have a greater range of ability than females,\n",
    "> especially in intelligence. In other words, he believed that most\n",
    "> geniuses and most mentally retarded people are men. Because he\n",
    "> considered males to be the ’superior animal,’ Meckel concluded that\n",
    "> females’ lack of variation was a sign of inferiority.”\n",
    ">\n",
    "> From <http://en.wikipedia.org/wiki/Variability_hypothesis>.\n",
    "\n",
    "I particularly like that last part, because I suspect that if it turns\n",
    "out that women are actually more variable, Meckel would take that as a\n",
    "sign of inferiority, too. Anyway, you will not be surprised to hear that\n",
    "the evidence for the Variability Hypothesis is weak.\n",
    "\n",
    "Nevertheless, it came up in my class recently when we looked at data\n",
    "from the CDC’s Behavioral Risk Factor Surveillance System (BRFSS),\n",
    "specifically the self-reported heights of adult American men and women.\n",
    "The dataset includes responses from 154407 men and 254722 women. Let's \n",
    "read in the data first (for the sake of simplicity the data was extracted and \n",
    "saved as a csv file)."
   ]
  },
  {
   "cell_type": "code",
   "execution_count": 2,
   "metadata": {},
   "outputs": [],
   "source": [
    "df=pd.read_csv(r\"../data/BRFSS.csv\",sep=',',index_col=0)\n",
    "M={'heights_all':df.M.dropna().values}\n",
    "F={'heights_all':df.F.dropna().values}"
   ]
  },
  {
   "cell_type": "markdown",
   "metadata": {},
   "source": [
    "Here’s what we found:\n",
    "\n",
    "-   The average height for men is 178 cm; the average height for women\n",
    "    is 163 cm. So men are taller, on average. No surprise there.\n",
    "\n",
    "-   For men the standard deviation is 7.7 cm; for women it is 7.3 cm. So\n",
    "    in absolute terms, men’s heights are more variable.\n",
    "\n",
    "-   But to compare variability between groups, it is more meaningful to\n",
    "    use the coefficient of variation (CV), which is the standard\n",
    "    deviation divided by the mean. It is a dimensionless measure of\n",
    "    variability relative to scale. For men CV is 0.0433; for women it is\n",
    "    0.0444."
   ]
  },
  {
   "cell_type": "code",
   "execution_count": 3,
   "metadata": {},
   "outputs": [
    {
     "data": {
      "text/html": [
       "<div>\n",
       "<style scoped>\n",
       "    .dataframe tbody tr th:only-of-type {\n",
       "        vertical-align: middle;\n",
       "    }\n",
       "\n",
       "    .dataframe tbody tr th {\n",
       "        vertical-align: top;\n",
       "    }\n",
       "\n",
       "    .dataframe thead th {\n",
       "        text-align: right;\n",
       "    }\n",
       "</style>\n",
       "<table border=\"1\" class=\"dataframe\">\n",
       "  <thead>\n",
       "    <tr style=\"text-align: right;\">\n",
       "      <th></th>\n",
       "      <th>M</th>\n",
       "      <th>F</th>\n",
       "    </tr>\n",
       "  </thead>\n",
       "  <tbody>\n",
       "    <tr>\n",
       "      <th>mean</th>\n",
       "      <td>178.066221</td>\n",
       "      <td>163.223475</td>\n",
       "    </tr>\n",
       "    <tr>\n",
       "      <th>std</th>\n",
       "      <td>7.723563</td>\n",
       "      <td>7.269156</td>\n",
       "    </tr>\n",
       "    <tr>\n",
       "      <th>cv</th>\n",
       "      <td>0.043375</td>\n",
       "      <td>0.044535</td>\n",
       "    </tr>\n",
       "    <tr>\n",
       "      <th>count</th>\n",
       "      <td>154407.000000</td>\n",
       "      <td>254722.000000</td>\n",
       "    </tr>\n",
       "  </tbody>\n",
       "</table>\n",
       "</div>"
      ],
      "text/plain": [
       "                   M              F\n",
       "mean      178.066221     163.223475\n",
       "std         7.723563       7.269156\n",
       "cv          0.043375       0.044535\n",
       "count  154407.000000  254722.000000"
      ]
     },
     "execution_count": 3,
     "metadata": {},
     "output_type": "execute_result"
    }
   ],
   "source": [
    "def cv(x): return x.std(ddof=1)/x.mean()\n",
    "df.agg(('mean','std', cv, 'count'))"
   ]
  },
  {
   "cell_type": "markdown",
   "metadata": {},
   "source": [
    "That’s very close, so we could conclude that this dataset provides weak\n",
    "evidence against the Variability Hypothesis. But we can use Bayesian\n",
    "methods to make that conclusion more precise. And answering this\n",
    "question gives me a chance to demonstrate some techniques for working\n",
    "with large datasets."
   ]
  },
  {
   "cell_type": "markdown",
   "metadata": {},
   "source": [
    "I will proceed in a few steps:\n",
    "\n",
    "1.  We’ll start with the simplest implementation, but it only works for\n",
    "    datasets smaller than 1000 values.\n",
    "\n",
    "2.  By computing probabilities under a log transform, we can scale up to\n",
    "    the full size of the dataset, but the computation gets slow.\n",
    "\n",
    "3.  Finally, we speed things up substantially with Approximate Bayesian\n",
    "    Computation, also known as ABC."
   ]
  },
  {
   "cell_type": "markdown",
   "metadata": {},
   "source": [
    "## 10.2 Mean and standard deviation\n",
    "\n",
    "In Chapter 9 we estimated two parameters simultaneously using\n",
    "a joint distribution. In this chapter we use the same method to estimate\n",
    "the parameters of a Gaussian distribution: the mean, `mu`,\n",
    "and the standard deviation, `sigma`.\n",
    "\n",
    "To do so, appropriate ranges for `mus` and `sigmas` have to be chosen. \n",
    "If the range is too small, we omit some possibilities with non-negligible \n",
    "probability and get the wrong answer. If the range is too big, we get the \n",
    "right answer, but waste computational power.\n",
    "\n",
    "So this is an opportunity to use classical estimation to make Bayesian\n",
    "techniques more efficient. Specifically, we can use classical estimators\n",
    "to find a likely location for `mu` and `sigma`, and use the standard errors \n",
    "of those estimates to choose a likely spread.\n",
    "\n",
    "If the true parameters of the distribution are $\\mu$ and $\\sigma$, and\n",
    "we take a sample of $n$ values, an estimator of $\\mu$ is the sample\n",
    "mean, `mean`.\n",
    "\n",
    "And an estimator of $\\sigma$ is the sample standard variance,\n",
    "`std`.\n",
    "\n",
    "The standard error of the estimated $\\mu$ is $s / \\sqrt{n}$ and the\n",
    "standard error of the estimated $\\sigma$ is $s / \\sqrt{2 (n-1)}$.\n",
    "\n",
    "Finally, the range for $\\mu$ is:\n",
    "$$[\\mu - SE_{\\mu} \\cdot n_{SE}; \\mu + SE_{\\mu} \\cdot n_{SE}]$$\n",
    "and for $\\sigma$ is:\n",
    "$$[\\sigma - SE_{\\sigma} \\cdot n_{SE}; \\sigma + SE_{\\sigma} \\cdot n_{SE}]$$\n",
    "\n",
    "Here’s the code to compute all that:"
   ]
  },
  {
   "cell_type": "code",
   "execution_count": 94,
   "metadata": {},
   "outputs": [],
   "source": [
    "def get_intervals(heights,n_se=4,n_vals_interval=31,n_vals_sample=100):\n",
    "    \n",
    "    mu = heights.mean()\n",
    "    sigma = heights.std(ddof=1)\n",
    "    count = heights.size\n",
    "\n",
    "    se_mu = sigma / np.sqrt(count)\n",
    "    se_sigma = sigma / np.sqrt(2*(count-1))\n",
    "\n",
    "    mus= np.linspace( mu-n_se*se_mu, mu+n_se*se_mu, n_vals_interval )\n",
    "    sigmas= np.linspace(sigma-n_se*se_sigma, sigma+n_se*se_sigma, n_vals_interval)\n",
    "    \n",
    "    return mus, sigmas \n",
    "\n",
    "#take first 100 datapoints for the analysis\n",
    "M['heights_100']=M['heights_all'][0:1000]\n",
    "F['heights_100']=F['heights_all'][0:1000]\n",
    "\n",
    "M['mus'] , M['sigmas'] = get_intervals(M['heights_100'])\n",
    "F['mus'] , F['sigmas'] = get_intervals(F['heights_100'])"
   ]
  },
  {
   "cell_type": "markdown",
   "metadata": {},
   "source": [
    "`mus` is a sequence of possible values for `mu`;\n",
    "`sigmas` is a sequence of values for `sigma`. The\n",
    "prior distribution is uniform over all `mu, sigma` pairs.\n",
    "`np.linspace` makes an array of 100 equally spaced elements between the \n",
    "left and rigth interval borders, including both."
   ]
  },
  {
   "cell_type": "markdown",
   "metadata": {},
   "source": [
    "The prior distribution is uniform over all mu, sigma pairs."
   ]
  },
  {
   "cell_type": "code",
   "execution_count": 95,
   "metadata": {},
   "outputs": [],
   "source": [
    "_mmsz=M['mus'].size\n",
    "_mssz=M['sigmas'].size\n",
    "\n",
    "prior = np.full((_mmsz, _mssz), fill_value=1/(_mmsz*_mssz), dtype = float)"
   ]
  },
  {
   "cell_type": "markdown",
   "metadata": {},
   "source": [
    "The likelihood function is easy. Given hypothetical values of\n",
    "`mus` and `sigmas`, we compute the likelihood of a\n",
    "particular value, `x`. We do this using `scipy.stats.norm.pdf`\n",
    "method. For example like this:"
   ]
  },
  {
   "cell_type": "code",
   "execution_count": 96,
   "metadata": {},
   "outputs": [
    {
     "data": {
      "text/plain": [
       "0.0013851872516556943"
      ]
     },
     "execution_count": 96,
     "metadata": {},
     "output_type": "execute_result"
    }
   ],
   "source": [
    "x=150\n",
    "stats.norm.pdf(M['mus'][0],M['sigmas'][0],x)"
   ]
  },
  {
   "cell_type": "markdown",
   "metadata": {},
   "source": [
    "If you have studied statistics from a mathematical perspective, you know\n",
    "that when you evaluate a PDF, you get a probability density. In order to\n",
    "get a probability, you have to integrate probability densities over some\n",
    "range.\n",
    "\n",
    "But for our purposes, we don’t need a probability; we just need\n",
    "something proportional to the probability we want. A probability density\n",
    "does that job nicely.\n",
    "\n"
   ]
  },
  {
   "cell_type": "markdown",
   "metadata": {},
   "source": [
    "## 10.3 Update\n",
    "\n",
    "Finally here’s the code to perform update for male and female data:"
   ]
  },
  {
   "cell_type": "code",
   "execution_count": 97,
   "metadata": {
    "collapsed": false,
    "jupyter": {
     "outputs_hidden": false
    }
   },
   "outputs": [
    {
     "name": "stderr",
     "output_type": "stream",
     "text": [
      "/home/shk/miniconda3/lib/python3.7/site-packages/ipykernel_launcher.py:15: RuntimeWarning: invalid value encountered in true_divide\n",
      "  from ipykernel import kernelapp as app\n"
     ]
    }
   ],
   "source": [
    "def update_i(mus,sigmas,heights):\n",
    "    _runningprod = prior.copy()\n",
    "    mg_mus, mg_sigmas = np.meshgrid(mus, sigmas, indexing='ij')\n",
    "    mg_likelihood = stats.norm(mg_mus,mg_sigmas)\n",
    "    for h in heights:\n",
    "        _product = _runningprod * mg_likelihood.pdf(h)\n",
    "        posterior = _product / _product.sum()\n",
    "        _runningprod = posterior\n",
    "    return posterior\n",
    "\n",
    "def update_v(mus,sigmas,heights):\n",
    "    mg_mus, mg_sigmas, mg_heights = np.meshgrid(mus, sigmas, heights, indexing='ij')\n",
    "    mg_likelihood = stats.norm.pdf(x=mg_heights, loc=mg_mus,scale=mg_sigmas)\n",
    "    posterior = prior * mg_likelihood.prod(axis=2)\n",
    "    posterior /= posterior.sum()\n",
    "    return posterior\n",
    "\n",
    "M['posterior_100'] = update_v(M['mus'],M['sigmas'],M['heights_100'])\n",
    "F['posterior_100'] = update_v(F['mus'],F['sigmas'],F['heights_100'])"
   ]
  },
  {
   "cell_type": "markdown",
   "metadata": {},
   "source": [
    "This process might seem bogus, because we use the data to choose the\n",
    "range of the prior distribution, and then use the data again to do the\n",
    "update. In general, using the same data twice is, in fact, bogus.\n",
    "\n",
    "But in this case it is ok. Really. We use the data to choose the range\n",
    "for the prior, but only to avoid computing a lot of probabilities that\n",
    "would have been very small anyway. With `n_se=4`, the range is\n",
    "big enough to cover all values with non-negligible likelihood. After\n",
    "that, making it bigger has no effect on the results.\n",
    "\n",
    "In effect, the prior is uniform over all values of `mu` and\n",
    "`sigma`, but for computational efficiency we ignore all the\n",
    "values that don’t matter."
   ]
  },
  {
   "cell_type": "markdown",
   "metadata": {},
   "source": [
    "## 10.4 The posterior distribution of CV\n",
    "\n",
    "Once we have the posterior joint distribution of `mu` and\n",
    "`sigma`, we can compute the distribution of CV for men and\n",
    "women, and then the probability that one exceeds the other.\n",
    "\n",
    "To compute the distribution of CV, we enumerate pairs of `mu`\n",
    "and `sigma`, compute all possible CVs, sum the probabilities\n",
    "for the same CV values and normalize. Below is function that \n",
    "does it:"
   ]
  },
  {
   "cell_type": "code",
   "execution_count": 90,
   "metadata": {},
   "outputs": [],
   "source": [
    "def get_pmf_cv(mus,sigmas,posterior):\n",
    "    mg_mus, mg_sigmas = np.meshgrid(mus, sigmas, indexing = 'ij')\n",
    "    \n",
    "    cv = (mg_sigmas / mg_mus).flatten()\n",
    "    idx_sort = cv.argsort()\n",
    "    cv = cv[idx_sort]\n",
    "    \n",
    "    pmf_cv = (posterior.flatten())[idx_sort]\n",
    "\n",
    "    pmf_cv_unique_xk, cv_unique_idx = np.unique(cv,return_index=True) \n",
    "    pmf_cv_unique_pk = np.array(list(map( lambda x: x.sum(), np.split(pmf_cv_unique_xk,cv_unique_idx[1:]) ) ) )\n",
    "    pmf_cv_unique_pk = pmf_cv_unique_pk / pmf_cv_unique_pk.sum()\n",
    "    return pmf_cv_unique_xk, pmf_cv_unique_pk"
   ]
  },
  {
   "cell_type": "markdown",
   "metadata": {},
   "source": [
    "Then we use function `get_prob_greater`, which computes the \n",
    "probability that one PMF is greater than another, to get the \n",
    "probability that men are more variable."
   ]
  },
  {
   "cell_type": "code",
   "execution_count": 91,
   "metadata": {},
   "outputs": [],
   "source": [
    "def get_prob_greater(G_pmf_xk,G_pmf_pk,S_pmf_xk,S_pmf_pk):\n",
    "    mg_G_pmf_xk, mg_S_pmf_xk = np.meshgrid(G_pmf_xk,S_pmf_xk,indexing = 'ij')\n",
    "    idx=mg_G_pmf_xk>mg_S_pmf_xk\n",
    "    \n",
    "    mg_G_pmf_pk, mg_G_pmf_pk = np.meshgrid(G_pmf_pk,S_pmf_pk,indexing = 'ij')    \n",
    "    pg = (M_mg_pmf_pk[idx] * F_mg_pmf_pk[idx]).sum()\n",
    "    return pg"
   ]
  },
  {
   "cell_type": "markdown",
   "metadata": {},
   "source": [
    "Here is the code to run both functions:"
   ]
  },
  {
   "cell_type": "code",
   "execution_count": 92,
   "metadata": {},
   "outputs": [
    {
     "name": "stdout",
     "output_type": "stream",
     "text": [
      "probability of males being more variable than females is 0.51\n"
     ]
    }
   ],
   "source": [
    "M['pmf_cv_xk'], M['pmf_cv_pk'] = get_pmf_cv(M['mus'],M['sigmas'],M['posterior_100'])\n",
    "F['pmf_cv_xk'], F['pmf_cv_pk'] = get_pmf_cv(F['mus'],F['sigmas'],F['posterior_100'])\n",
    "pg = get_prob_greater(M['pmf_cv_xk'], M['pmf_cv_pk'],F['pmf_cv_xk'], F['pmf_cv_pk'])\n",
    "print(f'probability of males being more variable than females is {pg:0.2f}')"
   ]
  },
  {
   "cell_type": "code",
   "execution_count": 93,
   "metadata": {},
   "outputs": [
    {
     "data": {
      "text/plain": [
       "<matplotlib.legend.Legend at 0x7f5aeaacf710>"
      ]
     },
     "execution_count": 93,
     "metadata": {},
     "output_type": "execute_result"
    },
    {
     "data": {
      "image/png": "[encoded data removed]",
      "text/plain": [
       "<Figure size 1080x360 with 3 Axes>"
      ]
     },
     "metadata": {
      "needs_background": "light"
     },
     "output_type": "display_data"
    }
   ],
   "source": [
    "#Figure not in the original; Similar to Figures 10.1 10.2 10.3\n",
    "fig, axs = plt.subplots(nrows=1, ncols=3, figsize=(15,5))\n",
    "axs[0].contourf(M['mus'],M['sigmas'],M['posterior_100'].T)\n",
    "axs[1].contourf(F['mus'],F['sigmas'],F['posterior_100'].T)\n",
    "axs[2].plot(M['pmf_cv_xk'],M['pmf_cv_pk'].cumsum(),label='M')\n",
    "axs[2].plot(F['pmf_cv_xk'],F['pmf_cv_pk'].cumsum(),label='F')\n",
    "axs[2].legend()"
   ]
  },
  {
   "cell_type": "markdown",
   "metadata": {},
   "source": [
    "The analysis itself is simple, but there are two more issues we have to\n",
    "deal with:\n",
    "\n",
    "1.  As the size of the dataset increases, we run into a series of\n",
    "    computational problems due to the limitations of floating-point\n",
    "    arithmetic.\n",
    "\n",
    "2.  The dataset contains a number of extreme values that are almost\n",
    "    certainly errors. We will need to make the estimation process robust\n",
    "    in the presence of these outliers.\n",
    "\n",
    "The following sections explain these problems and their solutions."
   ]
  },
  {
   "cell_type": "markdown",
   "metadata": {},
   "source": [
    "## 10.5 Underflow\n",
    "\n",
    "If we select the first 100 values from the BRFSS dataset and run the\n",
    "analysis I just described, it runs without errors and we get posterior\n",
    "distributions that look reasonable.\n",
    "\n",
    "If we select the first 1000 values and run the program again using, \n",
    "the vectorizd update function `update_v`we get an\n",
    "error in `update_v`:\n",
    "\n",
    "    RuntimeWarning: invalid value encountered in true_divide.\n",
    "\n",
    "The problem is that we are using probability densities to compute\n",
    "likelihoods, and densities from continuous distributions tend to be\n",
    "small. And if you take 1000 small values and multiply them together, the\n",
    "result is very small. In this case it is so small it can’t be\n",
    "represented by a floating-point number, so it gets rounded down to zero,\n",
    "which is called **underflow**. And if all probabilities in\n",
    "the distribution are 0, it’s not a distribution any more.\n",
    "\n",
    "A possible solution is to renormalize the PMF after each update, or\n",
    "after each batch of 100. I defined a function `update_i` that does \n",
    "normalization after each update. Leveraging the speed of `numpy`, \n",
    "the whole dataset can be processed in a less than a minute even on my old laptop.\n",
    "\n",
    "Another alternative A better alternative is to compute likelihoods under a log transform.\n",
    "That way, instead of multiplying small values, we can add up log\n",
    "likelihoods. `Pmf` provides methods `Log`,\n",
    "`LogUpdateSet` and `Exp` to make this process\n",
    "easy.\n",
    "\n",
    "`Log` computes the log of the probabilities in a Pmf:\n",
    "\n",
    "```python\n",
    "# class Pmf\n",
    "    def Log(self):\n",
    "        m = self.MaxLike()\n",
    "        for x, p in self.d.iteritems():\n",
    "            if p:\n",
    "                self.Set(x, math.log(p/m))\n",
    "            else:\n",
    "                self.Remove(x)\n",
    "```\n",
    "\n",
    "Before applying the log transform `Log` uses\n",
    "`MaxLike` to find `m`, the highest probability in\n",
    "the Pmf. It divide all probabilities by `m`, so the highest\n",
    "probability gets normalized to 1, which yields a log of 0. The other log\n",
    "probabilities are all negative. If there are any values in the Pmf with\n",
    "probability 0, they are removed.\n",
    "\n",
    "While the Pmf is under a log transform, we can’t use\n",
    "`Update`, `UpdateSet`, or `Normalize`.\n",
    "The result would be nonsensical; if you try, Pmf raises an exception.\n",
    "Instead, we have to use `LogUpdate` and\n",
    "`LogUpdateSet`.\n",
    "\n",
    "Here’s the implementation of `LogUpdateSet`:\n",
    "\n",
    "```python\n",
    "# class Suite\n",
    "    def LogUpdateSet(self, dataset):\n",
    "        for data in dataset:\n",
    "            self.LogUpdate(data)\n",
    "```\n",
    "\n",
    "`LogUpdateSet` loops through the data and calls\n",
    "`LogUpdate`:\n",
    "\n",
    "```python\n",
    "# class Suite\n",
    "    def LogUpdate(self, data):\n",
    "        for hypo in self.Values():\n",
    "            like = self.LogLikelihood(data, hypo)\n",
    "            self.Incr(hypo, like)\n",
    "```\n",
    "\n",
    "`LogUpdate` is just like `Update` except that it\n",
    "calls `LogLikelihood` instead of `Likelihood`, and\n",
    "`Incr` instead of `Mult`.\n",
    "\n",
    "Using log-likelihoods avoids the problem with underflow, but while the\n",
    "Pmf is under the log transform, there’s not much we can do with it. We\n",
    "have to use `Exp` to invert the transform:\n",
    "\n",
    "```python\n",
    "# class Pmf\n",
    "    def Exp(self):\n",
    "        m = self.MaxLike()\n",
    "        for x, p in self.d.iteritems():\n",
    "            self.Set(x, math.exp(p-m))\n",
    "```\n",
    "\n",
    "If the log-likelihoods are large negative numbers, the resulting\n",
    "likelihoods might underflow. So `Exp` finds the maximum\n",
    "log-likelihood, `m`, and shifts all the likelihoods up by\n",
    "`m`. The resulting distribution has a maximum likelihood of\n",
    "1. This process inverts the log transform with minimal loss of\n",
    "precision."
   ]
  },
  {
   "cell_type": "markdown",
   "metadata": {},
   "source": [
    "## Log-likelihood\n",
    "\n",
    "Now all we need is `LogLikelihood`.\n",
    "\n",
    "```python\n",
    "# class Height\n",
    "\n",
    "    def LogLikelihood(self, data, hypo):\n",
    "        x = data\n",
    "        mu, sigma = hypo\n",
    "        loglike = scipy.stats.norm.logpdf(x, mu, sigma)\n",
    "        return loglike\n",
    "```\n",
    "\n",
    "`norm.logpdf` computes the log-likelihood of the Gaussian\n",
    "PDF.\n",
    "\n",
    "Here’s what the whole update process looks like:"
   ]
  },
  {
   "cell_type": "code",
   "execution_count": null,
   "metadata": {
    "collapsed": false,
    "jupyter": {
     "outputs_hidden": false
    }
   },
   "outputs": [],
   "source": [
    "suite.Log()\n",
    "suite.LogUpdateSet(xs)\n",
    "suite.Exp()\n",
    "suite.Normalize()"
   ]
  },
  {
   "cell_type": "markdown",
   "metadata": {},
   "source": [
    "To review, `Log` puts the suite under a log transform.\n",
    "`LogUpdateSet` calls `LogUpdate`, which calls\n",
    "`LogLikelihood`. `LogUpdate` uses\n",
    "`Pmf.Incr`, because adding a log-likelihood is the same as\n",
    "multiplying by a likelihood.\n",
    "\n",
    "After the update, the log-likelihoods are large negative numbers, so\n",
    "`Exp` shifts them up before inverting the transform, which is\n",
    "how we avoid underflow.\n",
    "\n",
    "Once the suite is transformed back, the probabilities are “linear”\n",
    "again, which means “not logarithmic”, so we can use\n",
    "`Normalize` again.\n",
    "\n",
    "Using this algorithm, we can process the entire dataset without\n",
    "underflow, but it is still slow. On my computer it might take an hour.\n",
    "We can do better."
   ]
  },
  {
   "cell_type": "markdown",
   "metadata": {},
   "source": [
    "## A little optimization\n",
    "\n",
    "This section uses math and computational optimization to speed things up\n",
    "by a factor of 100. But the following section presents an algorithm that\n",
    "is even faster. So if you want to get right to the good stuff, feel free\n",
    "to skip this section.\n",
    "\n",
    "`Suite.LogUpdateSet` calls `LogUpdate` once for\n",
    "each data point. We can speed it up by computing the log-likelihood of\n",
    "the entire dataset at once.\n",
    "\n",
    "We’ll start with the Gaussian PDF:\n",
    "\n",
    "$$\\frac{1}{\\sigma \\sqrt{2 \\pi}} \\exp \\left[ -\\frac{1}{2} \\left( \\frac{x-\\mu}{\\sigma} \\right)^2 \\right]$$\n",
    "\n",
    "and compute the log (dropping the constant term):\n",
    "\n",
    "$$-\\log \\sigma -\\frac{1}{2} \\left( \\frac{x-\\mu}{\\sigma} \\right)^2$$\n",
    "\n",
    "Given a sequence of values, $x_i$, the total log-likelihood is\n",
    "\n",
    "$$\\sum_i -\\log \\sigma - \\frac{1}{2} \\left( \\frac{x_i-\\mu}{\\sigma} \\right)^2$$\n",
    "\n",
    "Pulling out the terms that don’t depend on $i$, we get\n",
    "\n",
    "$$-n \\log \\sigma - \\frac{1}{2 \\sigma^2} \\sum_i (x_i - \\mu)^2$$\n",
    "\n",
    "which we\n",
    "can translate into Python:\n",
    "\n",
    "```python\n",
    "# class Height\n",
    "    def LogUpdateSetFast(self, data):\n",
    "        xs = tuple(data)\n",
    "        n = len(xs)\n",
    "\n",
    "        for hypo in self.Values():\n",
    "            mu, sigma = hypo\n",
    "            total = Summation(xs, mu)\n",
    "            loglike = -n * math.log(sigma) - total / 2 / sigma**2\n",
    "            self.Incr(hypo, loglike)\n",
    "```\n",
    "\n",
    "By itself, this would be a small improvement, but it creates an\n",
    "opportunity for a bigger one. Notice that the summation only depends on\n",
    "`mu`, not `sigma`, so we only have to compute it\n",
    "once for each value of `mu`.\n",
    "\n",
    "To avoid recomputing, I factor out a function that computes the\n",
    "summation, and `**memoize**` it so it stores previously\n",
    "computed results in a dictionary (see\n",
    "<http://en.wikipedia.org/wiki/Memoization>):\n",
    "\n",
    "```python\n",
    "def Summation(xs, mu, cache={}):\n",
    "    try:\n",
    "        return cache[xs, mu]\n",
    "    except KeyError:\n",
    "        ds = [(x-mu)**2 for x in xs]\n",
    "        total = sum(ds)\n",
    "        cache[xs, mu] = total\n",
    "        return total\n",
    "```\n",
    "\n",
    "`cache` stores previously computed sums. The `try`\n",
    "statement returns a result from the cache if possible; otherwise it\n",
    "computes the summation, then caches and returns the result.\n",
    "\n",
    "The only catch is that we can’t use a list as a key in the cache,\n",
    "because it is not a hashable type. That’s why\n",
    "`LogUpdateSetFast` converts the dataset to a tuple.\n",
    "\n",
    "This optimization speeds up the computation by about a factor of 100,\n",
    "processing the entire dataset (154 407 men and 254 722 women) in less\n",
    "than a minute on my not-very-fast computer."
   ]
  },
  {
   "cell_type": "markdown",
   "metadata": {},
   "source": [
    "## ABC\n",
    "\n",
    "But maybe you don’t have that kind of time. In that case, Approximate\n",
    "Bayesian Computation (ABC) might be the way to go. The motivation behind\n",
    "ABC is that the likelihood of any particular dataset is:\n",
    "\n",
    "1.  Very small, especially for large datasets, which is why we had to\n",
    "    use the log transform,\n",
    "\n",
    "2.  Expensive to compute, which is why we had to do so much\n",
    "    optimization, and\n",
    "\n",
    "3.  Not really what we want anyway.\n",
    "\n",
    "We don’t really care about the likelihood of seeing the exact dataset we\n",
    "saw. Especially for continuous variables, we care about the likelihood\n",
    "of seeing any dataset like the one we saw.\n",
    "\n",
    "For example, in the Euro problem, we don’t care about the order of the\n",
    "coin flips, only the total number of heads and tails. And in the\n",
    "locomotive problem, we don’t care about which particular trains were\n",
    "seen, only the number of trains and the maximum of the serial numbers.\n",
    "\n",
    "Similarly, in the BRFSS sample, we don’t really want to know the\n",
    "probability of seeing one particular set of values (especially since\n",
    "there are hundreds of thousands of them). It is more relevant to ask,\n",
    "“If we sample 100,000 people from a population with hypothetical values\n",
    "of $\\mu$ and $\\sigma$, what would be the chance of collecting a sample\n",
    "with the observed mean and variance?”\n",
    "\n",
    "For samples from a Gaussian distribution, we can answer this question\n",
    "efficiently because we can find the distribution of the sample\n",
    "statistics analytically. In fact, we already did it when we computed the\n",
    "range of the prior.\n",
    "\n",
    "If you draw $n$ values from a Gaussian distribution with parameters\n",
    "$\\mu$ and $\\sigma$, and compute the sample mean, $m$, the distribution\n",
    "of $m$ is Gaussian with parameters $\\mu$ and $\\sigma / \\sqrt{n}$.\n",
    "\n",
    "Similarly, the distribution of the sample standard deviation, $s$, is\n",
    "Gaussian with parameters $\\sigma$ and $\\sigma / \\sqrt{2 (n-1)}$.\n",
    "\n",
    "We can use these sample distributions to compute the likelihood of the\n",
    "sample statistics, $m$ and $s$, given hypothetical values for $\\mu$ and\n",
    "$\\sigma$. Here’s a new version of `LogUpdateSet` that does it:\n",
    "\n",
    "```python\n",
    "    def LogUpdateSetABC(self, data):\n",
    "        xs = data\n",
    "        n = len(xs)\n",
    "\n",
    "        # compute sample statistics\n",
    "        m = numpy.mean(xs)\n",
    "        s = numpy.std(xs)\n",
    "\n",
    "        for hypo in sorted(self.Values()):\n",
    "            mu, sigma = hypo\n",
    "\n",
    "            # compute log likelihood of m, given hypo\n",
    "            stderr_m = sigma / math.sqrt(n)\n",
    "            loglike = EvalGaussianLogPdf(m, mu, stderr_m)\n",
    "\n",
    "            #compute log likelihood of s, given hypo\n",
    "            stderr_s = sigma / math.sqrt(2 * (n-1))\n",
    "            loglike += EvalGaussianLogPdf(s, sigma, stderr_s)\n",
    "\n",
    "            self.Incr(hypo, loglike)\n",
    "```\n",
    "\n",
    "On my computer this function processes the entire dataset in about a\n",
    "second, and the result agrees with the exact result with about 5 digits\n",
    "of precision."
   ]
  },
  {
   "cell_type": "markdown",
   "metadata": {},
   "source": [
    "## Robust estimation\n",
    "\n",
    "![Contour plot of the posterior joint distribution of mean and standard\n",
    "deviation of height for men in the\n",
    "U.S.](figs/variability_posterior_male.pdf)\n",
    "\n",
    "[fig.variability1]\n",
    "\n",
    "![Contour plot of the posterior joint distribution of mean and standard\n",
    "deviation of height for women in the\n",
    "U.S.](figs/variability_posterior_female.pdf)\n",
    "\n",
    "[fig.variability2]\n",
    "\n",
    "We are almost ready to look at results, but we have one more problem to\n",
    "deal with. There are a number of outliers in this dataset that are\n",
    "almost certainly errors. For example, there are three adults with\n",
    "reported height of 61 cm, which would place them among the shortest\n",
    "living adults in the world. At the other end, there are four women with\n",
    "reported height 229 cm, just short of the tallest women in the world.\n",
    "\n",
    "It is not impossible that these values are correct, but it is unlikely,\n",
    "which makes it hard to know how to deal with them. And we have to get it\n",
    "right, because these extreme values have a disproportionate effect on\n",
    "the estimated variability.\n",
    "\n",
    "Because ABC is based on summary statistics, rather than the entire\n",
    "dataset, we can make it more robust by choosing summary statistics that\n",
    "are robust in the presence of outliers. For example, rather than use the\n",
    "sample mean and standard deviation, we could use the median and\n",
    "inter-quartile range (IQR), which is the difference between the 25th and\n",
    "75th percentiles.\n",
    "\n",
    "More generally, we could compute an inter-percentile range (IPR) that\n",
    "spans any given fraction of the distribution, `p`:"
   ]
  },
  {
   "cell_type": "code",
   "execution_count": null,
   "metadata": {},
   "outputs": [],
   "source": [
    "def MedianIPR(xs, p):\n",
    "    cdf = thinkbayes.MakeCdfFromList(xs)\n",
    "    median = cdf.Percentile(50)\n",
    "\n",
    "    alpha = (1-p) / 2\n",
    "    ipr = cdf.Value(1-alpha) - cdf.Value(alpha)\n",
    "    return median, ipr"
   ]
  },
  {
   "cell_type": "markdown",
   "metadata": {},
   "source": [
    "`xs` is a sequence of values. `p` is the desired\n",
    "range; for example, `p=0.5` yields the inter-quartile range.\n",
    "\n",
    "`MedianIPR` works by computing the CDF of `xs`,\n",
    "then extracting the median and the difference between two percentiles.\n",
    "\n",
    "We can convert from `ipr` to an estimate of\n",
    "`sigma` using the Gaussian CDF to compute the fraction of the\n",
    "distribution covered by a given number of standard deviations. For\n",
    "example, it is a well-known rule of thumb that 68% of a Gaussian\n",
    "distribution falls within one standard deviation of the mean, which\n",
    "leaves 16% in each tail. If we compute the range between the 16th and\n",
    "84th percentiles, we expect the result to be `2 \\* sigma`. So\n",
    "we can estimate `sigma` by computing the 68% IPR and dividing\n",
    "by 2.\n",
    "\n",
    "More generally we could use any number of `sigmas`.\n",
    "`MedianS` performs the more general version of this\n",
    "computation:"
   ]
  },
  {
   "cell_type": "code",
   "execution_count": null,
   "metadata": {},
   "outputs": [],
   "source": [
    "def MedianS(xs, num_sigmas):\n",
    "    half_p = thinkbayes.StandardGaussianCdf(num_sigmas) - 0.5\n",
    "\n",
    "    median, ipr = MedianIPR(xs, half_p * 2)\n",
    "    s = ipr / 2 / num_sigmas\n",
    "\n",
    "    return median, s"
   ]
  },
  {
   "cell_type": "markdown",
   "metadata": {},
   "source": [
    "Again, `xs` is the sequence of values; `num_sigmas` is the\n",
    "number of standard deviations the results should be based on. The result\n",
    "is `median`, which estimates $\\mu$, and `s`, which\n",
    "estimates $\\sigma$.\n",
    "\n",
    "Finally, in `LogUpdateSetABC` we can replace the sample mean\n",
    "and standard deviation with `median` and `s`. And\n",
    "that pretty much does it.\n",
    "\n",
    "It might seem odd that we are using observed percentiles to estimate\n",
    "$\\mu$ and $\\sigma$, but it is an example of the flexibility of the\n",
    "Bayesian approach. In effect we are asking, “Given hypothetical values\n",
    "for $\\mu$ and $\\sigma$, and a sampling process that has some chance of\n",
    "introducing errors, what is the likelihood of generating a given set of\n",
    "sample statistics?”\n",
    "\n",
    "We are free to choose any sample statistics we like, up to a point:\n",
    "$\\mu$ and $\\sigma$ determine the location and spread of a distribution,\n",
    "so we need to choose statistics that capture those characteristics. For\n",
    "example, if we chose the 49th and 51st percentiles, we would get very\n",
    "little information about spread, so it would leave the estimate of\n",
    "$\\sigma$ relatively unconstrained by the data. All values of\n",
    "`sigma` would have nearly the same likelihood of producing\n",
    "the observed values, so the posterior distribution of `sigma`\n",
    "would look a lot like the prior."
   ]
  },
  {
   "cell_type": "markdown",
   "metadata": {},
   "source": [
    "## Who is more variable?\n",
    "\n",
    "![Posterior distributions of CV for men and women, based on robust\n",
    "estimators.](figs/variability_cv.pdf)\n",
    "\n",
    "[fig.variability3]\n",
    "\n",
    "Finally we are ready to answer the question we started with: is the\n",
    "coefficient of variation greater for men than for women?\n",
    "\n",
    "Using ABC based on the median and IPR with `num_sigmas=1`, I computed\n",
    "posterior joint distributions for `mu` and\n",
    "`sigma`. Figures [fig.variability1] and  [fig.variability2]\n",
    "show the results as a contour plot with `mu` on the x-axis,\n",
    "`sigma` on the y-axis, and probability on the z-axis.\n",
    "\n",
    "For each joint distribution, I computed the posterior distribution of\n",
    "CV. Figure [fig.variability3] shows these distributions for men and\n",
    "women. The mean for men is 0.0410; for women it is 0.0429. Since there\n",
    "is no overlap between the distributions, we conclude with near certainty\n",
    "that women are more variable in height than men.\n",
    "\n",
    "So is that the end of the Variability Hypothesis? Sadly, no. It turns\n",
    "out that this result depends on the choice of the inter-percentile\n",
    "range. With `num_sigmas=1`, we conclude that women are more variable,\n",
    "but with `num_sigmas=2` we conclude with equal confidence that men are\n",
    "more variable.\n",
    "\n",
    "The reason for the difference is that there are more men of short\n",
    "stature, and their distance from the mean is greater.\n",
    "\n",
    "So our evaluation of the Variability Hypothesis depends on the\n",
    "interpretation of “variability.” With `num_sigmas=1` we focus on people\n",
    "near the mean. As we increase `num_sigmas`, we give more weight to the\n",
    "extremes.\n",
    "\n",
    "To decide which emphasis is appropriate, we would need a more precise\n",
    "statement of the hypothesis. As it is, the Variability Hypothesis may be\n",
    "too vague to evaluate.\n",
    "\n",
    "Nevertheless, it helped me demonstrate several new ideas and, I hope you\n",
    "agree, it makes an interesting example."
   ]
  },
  {
   "cell_type": "markdown",
   "metadata": {},
   "source": [
    "## Discussion\n",
    "\n",
    "There are two ways you might think of ABC. One interpretation is that it\n",
    "is, as the name suggests, an approximation that is faster to compute\n",
    "than the exact value.\n",
    "\n",
    "But remember that Bayesian analysis is always based on modeling\n",
    "decisions, which implies that there is no “exact” solution. For any\n",
    "interesting physical system there are many possible models, and each\n",
    "model yields different results. To interpret the results, we have to\n",
    "evaluate the models.\n",
    "\n",
    "So another interpretation of ABC is that it represents an alternative\n",
    "model of the likelihood. When we compute `$\\mathrm{p}(D|H)$`,\n",
    "we are asking “What is the likelihood of the data under a given\n",
    "hypothesis?”\n",
    "\n",
    "For large datasets, the likelihood of the data is very small, which is a\n",
    "hint that we might not be asking the right question. What we really want\n",
    "to know is the likelihood of any outcome like the data, where the\n",
    "definition of “like” is yet another modeling decision.\n",
    "\n",
    "The underlying idea of ABC is that two datasets are alike if they yield\n",
    "the same summary statistics. But in some cases, like the example in this\n",
    "chapter, it is not obvious which summary statistics to choose.\n",
    "\n",
    "You can download the code in this chapter from\n",
    "<http://thinkbayes.com/variability.py>. For more information see\n",
    "Section [download]."
   ]
  },
  {
   "cell_type": "markdown",
   "metadata": {},
   "source": [
    "## Exercises\n",
    "\n",
    "An “effect size” is a statistic intended to measure the difference\n",
    "between two groups (see <http://en.wikipedia.org/wiki/Effect_size>).\n",
    "\n",
    "For example, we could use data from the BRFSS to estimate the difference\n",
    "in height between men and women. By sampling values from the posterior\n",
    "distributions of $\\mu$ and $\\sigma$, we could generate the posterior\n",
    "distribution of this difference.\n",
    "\n",
    "But it might be better to use a dimensionless measure of effect size,\n",
    "rather than a difference measured in cm. One option is to use divide\n",
    "through by the standard deviation (similar to what we did with the\n",
    "coefficient of variation).\n",
    "\n",
    "If the parameters for Group 1 are $(\\mu_1, \\sigma_1)$, and the\n",
    "parameters for Group 2 are $(\\mu_2, \\sigma_2)$, the dimensionless effect\n",
    "size is\n",
    "$$\\frac{\\mu_1 - \\mu_2}{(\\sigma_1 + \\sigma_2)/2}$$ \n",
    "\n",
    "Write a function that takes joint distributions of `mu` and\n",
    "`sigma` for two groups and returns the posterior distribution\n",
    "of effect size.\n",
    "\n",
    "Hint: if enumerating all pairs from the two distributions takes too\n",
    "long, consider random sampling."
   ]
  }
 ],
 "metadata": {
  "kernelspec": {
   "display_name": "Python 3",
   "language": "python",
   "name": "python3"
  },
  "language_info": {
   "codemirror_mode": {
    "name": "ipython",
    "version": 3
   },
   "file_extension": ".py",
   "mimetype": "text/x-python",
   "name": "python",
   "nbconvert_exporter": "python",
   "pygments_lexer": "ipython3",
   "version": "3.7.5"
  }
 },
 "nbformat": 4,
 "nbformat_minor": 4
}
