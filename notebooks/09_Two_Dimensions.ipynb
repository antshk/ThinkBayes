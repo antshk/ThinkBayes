{
 "cells": [
  {
   "cell_type": "code",
   "execution_count": 1,
   "metadata": {},
   "outputs": [],
   "source": [
    "import numpy as np\n",
    "from scipy import stats\n",
    "import matplotlib.pyplot as plt\n",
    "%matplotlib inline\n",
    "%qtconsole"
   ]
  },
  {
   "cell_type": "markdown",
   "metadata": {},
   "source": [
    "# 9 Two Dimensions\n",
    "\n",
    "\n",
    "## 9.1 Paintball\n",
    "\n",
    "Paintball is a sport in which competing teams try to shoot each other\n",
    "with guns that fire paint-filled pellets that break on impact, leaving a\n",
    "colorful mark on the target. It is usually played in an arena decorated\n",
    "with barriers and other objects that can be used as cover.\n",
    "\n",
    "Suppose you are playing paintball in an indoor arena 30 feet wide and 50\n",
    "feet long. You are standing near one of the 30 foot walls, and you\n",
    "suspect that one of your opponents has taken cover nearby. Along the\n",
    "wall, you see several paint spatters, all the same color, that you think\n",
    "your opponent fired recently.\n",
    "\n",
    "The spatters are at 15, 16, 18, and 21 feet, measured from the\n",
    "lower-left corner of the room. Based on these data, where do you think\n",
    "your opponent is hiding?\n",
    "\n",
    "Figure [fig.paintball] shows a diagram of the arena. Using the\n",
    "lower-left corner of the room as the origin, I denote the unknown\n",
    "location of the shooter with coordinates $\\alpha$ and $\\beta$, or\n",
    "`alpha` and `beta`. The location of a spatter is\n",
    "labeled `x`. The angle the opponent shoots at is $\\theta$ or\n",
    "`theta`.\n",
    "\n",
    "The Paintball problem is a modified version of the Lighthouse problem, a\n",
    "common example of Bayesian analysis. My notation follows the\n",
    "presentation of the problem in D.S. Sivia’s, *Data Analysis: a\n",
    "Bayesian Tutorial, Second Edition* (Oxford, 2006)."
   ]
  },
  {
   "cell_type": "markdown",
   "metadata": {},
   "source": [
    "## 9.2 The suite\n",
    "\n",
    "![Diagram of the layout for the paintball problem.](figs/paintball.pdf)\n",
    "\n",
    "[fig.paintball]\n",
    "\n",
    "To get started, we need a set of hypotheses about the location\n",
    "of the opponent. Each hypothesis is a pair of\n",
    "coordinates $(\\alpha, \\beta)$. To get all possible coordinates\n",
    "we define two arrays for the possible values of $\\alpha$ and\n",
    "$\\beta$:"
   ]
  },
  {
   "cell_type": "code",
   "execution_count": 2,
   "metadata": {},
   "outputs": [],
   "source": [
    "alphas = np.arange(0,31,dtype=float)\n",
    "betas = np.arange(1,51,dtype=float)"
   ]
  },
  {
   "cell_type": "markdown",
   "metadata": {},
   "source": [
    "Additionally we define an array `locations` which is a list of possible locations of a spatter along the wall; it is stored for the likelihood calculation. "
   ]
  },
  {
   "cell_type": "code",
   "execution_count": 3,
   "metadata": {},
   "outputs": [],
   "source": [
    "locations = np.arange(0,31,dtype=float)"
   ]
  },
  {
   "cell_type": "markdown",
   "metadata": {},
   "source": [
    "The prior distribution assumes that all locations of \n",
    "the opponent in the room $(\\alpha,\\beta)$ are equally \n",
    "likely. Given a map of the room, we might choose a more detailed \n",
    "prior, but we’ll start simple."
   ]
  },
  {
   "cell_type": "code",
   "execution_count": 4,
   "metadata": {},
   "outputs": [],
   "source": [
    "prior = np.full(shape=(alphas.size,betas.size),fill_value=1/(alphas.size*betas.size))"
   ]
  },
  {
   "cell_type": "markdown",
   "metadata": {},
   "source": [
    "`prior` is a 2D array filled with probabilities of the shooter beeing in particular a cell. Indexes `[i,j]` of each cell can be used to get the coordinates from 1D arrays `alphas[i]` and and `betas[j]`. "
   ]
  },
  {
   "cell_type": "markdown",
   "metadata": {},
   "source": [
    "## 9.3 Trigonometry\n",
    "\n",
    "Now we need a likelihood function, which means we have to figure out the\n",
    "likelihood of hitting any spot along the wall, given the location of the\n",
    "opponent.\n",
    "\n",
    "As a simple model, imagine that the opponent is like a rotating turret,\n",
    "equally likely to shoot in any direction. In that case, he is most\n",
    "likely to hit the wall at location `alpha`, and less likely\n",
    "to hit the wall far away from `alpha`.\n",
    "\n",
    "With a little trigonometry, we can compute the probability of hitting\n",
    "any spot along the wall. Imagine that the shooter fires a shot at angle\n",
    "$\\theta$; the pellet would hit the wall at location $x$, where\n",
    "\n",
    "$$x - \\alpha = \\beta \\tan \\theta$$ Solving this equation for $\\theta$\n",
    "yields $$\\theta = tan^{-1} \\left( \\frac{x - \\alpha}{\\beta} \\right)$$ \n",
    "\n",
    "So given a location on the wall, we can find $\\theta$.\n",
    "\n",
    "Taking the derivative of the first equation with respect to $\\theta$\n",
    "yields\n",
    "\n",
    "$$\\frac{dx}{d\\theta} = \\frac{\\beta}{\\cos^2 \\theta}$$ \n",
    "\n",
    "This derivative is what I’ll call the “strafing speed”, which is the speed of\n",
    "the target location along the wall as $\\theta$ increases. The\n",
    "probability of hitting a given point on the wall is inversely related to\n",
    "strafing speed.\n",
    "\n",
    "If we know the coordinates of the shooter and a location along the wall,\n",
    "we can compute strafing speed:"
   ]
  },
  {
   "cell_type": "code",
   "execution_count": 5,
   "metadata": {},
   "outputs": [],
   "source": [
    "def get_strafingspeed(alpha,beta,x):\n",
    "    theta = np.arctan2(x-alpha,beta)\n",
    "    speed = beta / np.cos(theta)**2\n",
    "    return speed"
   ]
  },
  {
   "cell_type": "markdown",
   "metadata": {},
   "source": [
    "`alpha` and `beta` are the coordinates of the\n",
    "shooter; `x` is the location of a spatter. The result is the\n",
    "derivative of `x` with respect to `theta`.\n",
    "\n",
    "Now we can compute a PMF that represents the probability of hitting any lo-\n",
    "cation on the wall. The function `make_pmf_location` takes `alphas` and `betas` , the coordinates\n",
    "of the shooter, and `locations`, a list of possible values of x. The input variables can be scalar\n",
    "or 1d arrays. Again, we use `meshgrid` inside the function to vectorize the calculations."
   ]
  },
  {
   "cell_type": "code",
   "execution_count": 6,
   "metadata": {},
   "outputs": [],
   "source": [
    "def make_pmf_location(alphas, betas, locations):\n",
    "    mg_alphas, mg_betas, mg_locations = np.meshgrid(alphas,betas,locations, indexing = 'ij')\n",
    "    speeds = get_strafingspeed(mg_alphas,mg_betas,mg_locations)\n",
    "    location_pmfs = np.ones_like(speeds) / speeds\n",
    "    #normalize along location axis\n",
    "    location_pmfs = location_pmfs / location_pmfs.sum(axis=2)[:,:,None]\n",
    "    return location_pmfs"
   ]
  },
  {
   "cell_type": "markdown",
   "metadata": {},
   "source": [
    "`make_pmf_location` computes the probability of hitting each location, which\n",
    "is inversely related to strafing speed. The result is a PMF of locations and\n",
    "their probabilities for all combinations of the provided `alphas` and `betas`."
   ]
  },
  {
   "cell_type": "markdown",
   "metadata": {},
   "source": [
    "Figure 9.3 shows the PMF of location with `alpha = 10` and a range of \n",
    "values for `beta`. For all values of beta the most likely spatter \n",
    "location is `x = 10`; as `beta` increases, so does the spread of the PMF."
   ]
  },
  {
   "cell_type": "code",
   "execution_count": 7,
   "metadata": {},
   "outputs": [
    {
     "data": {
      "image/png": "[encoded data removed]",
      "text/plain": [
       "<Figure size 432x288 with 1 Axes>"
      ]
     },
     "metadata": {
      "needs_background": "light"
     },
     "output_type": "display_data"
    }
   ],
   "source": [
    "#Figure 9.3\n",
    "pmfs_location_pk = make_pmf_location(alphas=10, betas=[10,20,40],locations=locations)\n",
    "plt.plot(locations, pmfs_location_pk[0,0,:], label = 'beta = 10')\n",
    "plt.plot(locations, pmfs_location_pk[0,1,:], label = 'beta = 20')\n",
    "plt.plot(locations, pmfs_location_pk[0,2,:], label = 'beta = 40')\n",
    "\n",
    "plt.xlabel('Distance');\n",
    "plt.ylabel('Prob');\n",
    "plt.legend()\n",
    "plt.title('Figure 9.3: PMF of location given alpha = 10, for several values of beta.');"
   ]
  },
  {
   "cell_type": "markdown",
   "metadata": {},
   "source": [
    "## 9.4 Likelihood\n",
    "\n",
    "Now all we need is a way to calculate likelihood of a spatter being observed \n",
    "at a certain location for all $(\\alpha,\\beta)$ coordinates. This boils down\n",
    "to getting the probability value from location PMF corresponding to the spatter \n",
    "location value $x$ for for all $(\\alpha,\\beta)$ coordinates. This can be done \n",
    "by using the `make_pmf_location` function providing all possible values of `alphas`\n",
    "and `betas` and `locations` and then making a slice of the output corresponding \n",
    "to the `observed_locations`. "
   ]
  },
  {
   "cell_type": "code",
   "execution_count": 8,
   "metadata": {},
   "outputs": [],
   "source": [
    "observed_locations = np.array([15,16,18,21])\n",
    "\n",
    "location_pmfs = make_pmf_location(alphas, betas, locations)\n",
    "likelihoods = location_pmfs[:,:,observed_locations]"
   ]
  },
  {
   "cell_type": "markdown",
   "metadata": {},
   "source": [
    "And we’re done. Now we can update the prior with the \n",
    "observed locations of spatters to get the posterior distribution."
   ]
  },
  {
   "cell_type": "code",
   "execution_count": 9,
   "metadata": {},
   "outputs": [],
   "source": [
    "posterior = prior * likelihoods.prod(axis=2)\n",
    "posterior /= posterior.sum()"
   ]
  },
  {
   "cell_type": "markdown",
   "metadata": {},
   "source": [
    "The result is a posterior distribution that maps each `(alpha, beta)`\n",
    "pair to a posterior probability."
   ]
  },
  {
   "cell_type": "code",
   "execution_count": 10,
   "metadata": {},
   "outputs": [
    {
     "data": {
      "image/png": "[encoded data removed]",
      "text/plain": [
       "<Figure size 432x288 with 2 Axes>"
      ]
     },
     "metadata": {
      "needs_background": "light"
     },
     "output_type": "display_data"
    }
   ],
   "source": [
    "#Figure not in the original\n",
    "plt.contourf(alphas,betas,posterior.T)\n",
    "plt.colorbar(label='Probability')\n",
    "\n",
    "plt.xlabel('alpha');\n",
    "plt.ylabel('beta');\n",
    "plt.title(\"Figure: Posterior 2D PMF of the opponent's location.\");"
   ]
  },
  {
   "cell_type": "markdown",
   "metadata": {},
   "source": [
    "## 9.5 Joint distributions\n",
    "\n",
    "When each value in a distribution is a tuple of variables, it is called\n",
    "a **joint distribution** because it represents the\n",
    "distributions of the variables together, that is “jointly”. A joint\n",
    "distribution contains the distributions of the variables, as well\n",
    "information about the relationships among them.\n",
    "\n",
    "Given a joint distribution, we can compute the distributions of each\n",
    "variable independently, which are called the **marginal\n",
    "distributions**. Here’s the code that extracts the marginal distributions:"
   ]
  },
  {
   "cell_type": "code",
   "execution_count": 11,
   "metadata": {},
   "outputs": [],
   "source": [
    "cdf_alpha_marginal_pk = posterior.sum(axis=1).cumsum()\n",
    "cdf_beta_marginal_pk = posterior.sum(axis=0).cumsum()"
   ]
  },
  {
   "cell_type": "markdown",
   "metadata": {},
   "source": [
    "Figure 9.2 shows the results (converted to CDFs)."
   ]
  },
  {
   "cell_type": "code",
   "execution_count": 12,
   "metadata": {},
   "outputs": [
    {
     "data": {
      "image/png": "[encoded data removed]",
      "text/plain": [
       "<Figure size 432x288 with 1 Axes>"
      ]
     },
     "metadata": {
      "needs_background": "light"
     },
     "output_type": "display_data"
    }
   ],
   "source": [
    "#Figure 9.2\n",
    "plt.plot(alphas,cdf_alpha_marginal_pk,label=\"alpha\")\n",
    "plt.plot(betas,cdf_beta_marginal_pk,label=\"beta\")\n",
    "\n",
    "plt.xlabel('Distance');\n",
    "plt.ylabel('Prob');\n",
    "plt.legend()\n",
    "plt.title('Figure 9.2: Posterior CDFs for alpha and beta, given the data');"
   ]
  },
  {
   "cell_type": "markdown",
   "metadata": {},
   "source": [
    "The median value for `alpha` is 17 (Note median in the book is  in the book is 18), near the center of mass of\n",
    "the observed spatters. For `beta`, the most likely values are\n",
    "close to the wall, but beyond 10 feet the distribution is almost\n",
    "uniform, which indicates that the data do not distinguish strongly\n",
    "between these possible locations."
   ]
  },
  {
   "cell_type": "code",
   "execution_count": 13,
   "metadata": {},
   "outputs": [
    {
     "name": "stdout",
     "output_type": "stream",
     "text": [
      "median = 17\n"
     ]
    }
   ],
   "source": [
    "idx=np.argmax(cdf_alpha_marginal_pk>=0.5)\n",
    "print(f\"median = {alphas[idx]:2.0f}\")"
   ]
  },
  {
   "cell_type": "markdown",
   "metadata": {},
   "source": [
    "Given the posterior marginals, we can compute credible intervals for\n",
    "each coordinate independently:"
   ]
  },
  {
   "cell_type": "code",
   "execution_count": 14,
   "metadata": {
    "collapsed": false,
    "jupyter": {
     "outputs_hidden": false
    }
   },
   "outputs": [
    {
     "name": "stdout",
     "output_type": "stream",
     "text": [
      "[14.0, 21.0]\n",
      "[5.0, 31.0]\n"
     ]
    }
   ],
   "source": [
    "print([alphas[1:][np.argmax(cdf_alpha_marginal_pk>=0.25)-1], alphas[1:][np.argmax(cdf_alpha_marginal_pk>=0.75)-1]])\n",
    "print([ betas[1:][np.argmax(cdf_beta_marginal_pk>=0.25)-1],   betas[1:][np.argmax(cdf_beta_marginal_pk>=0.75)-1]])"
   ]
  },
  {
   "cell_type": "markdown",
   "metadata": {},
   "source": [
    "The 50% credible intervals are `(14, 21)` for\n",
    "`alpha` and `(5, 31)` for `beta`. So\n",
    "the data provide evidence that the shooter is in the near side of the\n",
    "room. But it is not strong evidence. The 90% credible intervals cover\n",
    "most of the room!"
   ]
  },
  {
   "cell_type": "code",
   "execution_count": 15,
   "metadata": {},
   "outputs": [
    {
     "name": "stdout",
     "output_type": "stream",
     "text": [
      "[4.0, 28.0]\n",
      "[2.0, 47.0]\n"
     ]
    }
   ],
   "source": [
    "print([alphas[1:][np.argmax(cdf_alpha_marginal_pk>=0.05)-1], alphas[1:][np.argmax(cdf_alpha_marginal_pk>=0.95)-1]])\n",
    "print([ betas[1:][np.argmax(cdf_beta_marginal_pk>=0.05)-1],   betas[1:][np.argmax(cdf_beta_marginal_pk>=0.95)-1]])"
   ]
  },
  {
   "cell_type": "markdown",
   "metadata": {},
   "source": [
    "## 9.6 Conditional distributions\n",
    "\n",
    "The marginal distributions contain information about the variables\n",
    "independently, but they do not capture the dependence between variables,\n",
    "if any.\n",
    "\n",
    "One way to visualize dependence is by computing **conditional\n",
    "distributions** i.e. a distribution of the $i$th variable under the condition\n",
    "that the $j$th variable has a certain value.\n",
    "\n",
    "For example, the following code computes the conditional distributions\n",
    "of `alpha` for a range of values of `beta=[10,20,40]`:"
   ]
  },
  {
   "cell_type": "code",
   "execution_count": 16,
   "metadata": {},
   "outputs": [],
   "source": [
    "idx_betas = np.searchsorted(betas,[10,20,40])\n",
    "pmf_betas_conditional_pk = posterior[:,idx_betas]\n",
    "pmf_betas_conditional_pk/= pmf_betas_conditional_pk.sum(axis=0)"
   ]
  },
  {
   "cell_type": "code",
   "execution_count": 17,
   "metadata": {},
   "outputs": [
    {
     "data": {
      "image/png": "[encoded data removed]",
      "text/plain": [
       "<Figure size 432x288 with 1 Axes>"
      ]
     },
     "metadata": {
      "needs_background": "light"
     },
     "output_type": "display_data"
    }
   ],
   "source": [
    "#Figure 9.4\n",
    "plt.plot(alphas,pmf_betas_conditional_pk[:,0],label='beta = 10')\n",
    "plt.plot(alphas,pmf_betas_conditional_pk[:,1],label='beta = 20')\n",
    "plt.plot(alphas,pmf_betas_conditional_pk[:,2],label='beta = 40')\n",
    "\n",
    "plt.xlabel('Distance');\n",
    "plt.ylabel('Prob');\n",
    "plt.legend()\n",
    "plt.title('Figure 9.4: Posterior distributions for alpha conditioned on several values of beta');"
   ]
  },
  {
   "cell_type": "markdown",
   "metadata": {},
   "source": [
    "Figure 9.4 shows the results, which we could fully describe\n",
    "as “posterior conditional marginal distributions.” Whew!\n",
    "\n",
    "If the variables were independent, the conditional distributions would\n",
    "all be the same. Since they are all different, we can tell the variables\n",
    "are dependent. For example, if we know (somehow) that `beta = 10`, the\n",
    "conditional distribution of `alpha` is fairly\n",
    "narrow. For larger values of `beta`, the distribution of\n",
    "`alpha` is wider."
   ]
  },
  {
   "cell_type": "markdown",
   "metadata": {},
   "source": [
    "## 9.7 Credible intervals\n",
    "\n",
    "Another way to visualize the posterior joint distribution is to compute\n",
    "credible intervals. When we looked at credible intervals in\n",
    "Section 3.5, I skipped over a subtle point: for a given\n",
    "distribution, there are many intervals with the same level of\n",
    "credibility. For example, if you want a 50% credible interval, you could\n",
    "choose any set of values whose probability adds up to 50%.\n",
    "\n",
    "When the values are one-dimensional, it is most common to choose the\n",
    "**central credible interval**; for example, the central 50%\n",
    "credible interval contains all values between the 25th and 75th\n",
    "percentiles.\n",
    "\n",
    "In multiple dimensions it is less obvious what the right credible\n",
    "interval should be. The best choice might depend on context, but one\n",
    "common choice is the maximum likelihood credible interval, which\n",
    "contains the most likely values that add up to 50% (or some other\n",
    "percentage).\n",
    "\n",
    "Below is an approach to compute maximum likelihood credible intervals:"
   ]
  },
  {
   "cell_type": "code",
   "execution_count": 88,
   "metadata": {},
   "outputs": [],
   "source": [
    "posterior_flat = posterior.flatten()\n",
    "idx_sort=np.argsort(posterior_flat)\n",
    "idx_original = np.argsort(idx_sort)\n",
    "m = np.zeros_like(posterior_flat)\n",
    "\n",
    "posterior_flat=posterior_flat[idx_sort].cumsum()\n",
    "ci = np.array([0, 0.25, 0.50, 0.75 ,1.0 ])\n",
    "\n",
    "for i in range(confidence_intervals.size-1):\n",
    "    idx = np.logical_and((ci[i]<posterior_flat),(posterior_flat<=ci[i+1]+0.00001))\n",
    "    m[idx]=100-ci[i]*100\n",
    "\n",
    "m=m[idx_original].reshape(posterior.shape)"
   ]
  },
  {
   "cell_type": "markdown",
   "metadata": {},
   "source": [
    "The first step is to flaten the 2d posterior distribution and sort the \n",
    "values in ascending order by probability and calculate their cumulative sum.\n",
    "Next we find indexes of the values for the corresponding confidence intervals\n",
    "and construct an auxiliary array `m` for cisualization. Finally, we reorder and \n",
    "reshape `m` so that is corresponds to `posterior`.\n",
    "\n",
    "Figure 9.5 visualizes the intervals. The 25% credible interval is\n",
    "the darkest region near the bottom wall. For higher percentages, the\n",
    "credible interval is bigger, of course, and skewed toward the right side\n",
    "of the room."
   ]
  },
  {
   "cell_type": "code",
   "execution_count": 87,
   "metadata": {},
   "outputs": [
    {
     "data": {
      "image/png": "[encoded data removed]",
      "text/plain": [
       "<Figure size 432x288 with 2 Axes>"
      ]
     },
     "metadata": {
      "needs_background": "light"
     },
     "output_type": "display_data"
    }
   ],
   "source": [
    "#Figure 9.5\n",
    "cmap = plt.get_cmap('viridis', 4) \n",
    "ticks=np.array([18.75/2, 18.75, 18.75, 18.75]).cumsum()+25\n",
    "\n",
    "plt.imshow(m.T,origin='lower', cmap=cmap)\n",
    "cbar=plt.colorbar(label='Probability',ticks=ticks)\n",
    "cbar.ax.set_yticklabels(['25', '50', '75','100'])\n",
    "\n",
    "plt.xlabel('alpha');\n",
    "plt.ylabel('beta');\n",
    "plt.title('Figure 9.5: Credible intervals for the coordinates of the opponent');"
   ]
  },
  {
   "cell_type": "markdown",
   "metadata": {},
   "source": [
    "## 9.8 Discussion\n",
    "\n",
    "This chapter shows that the Bayesian framework from the previous\n",
    "chapters can be extended to handle a two-dimensional parameter space.\n",
    "The only difference is that each hypothesis is represented by a tuple of\n",
    "parameters.\n",
    "\n",
    "I also presented how to calculate `Marginal` and `Conditional` \n",
    "distributions.\n",
    "\n",
    "There is a lot of new vocabulary in this chapter, so let’s review:\n",
    "\n",
    "Joint distribution:\n",
    "    A distribution that represents all possible values in a\n",
    "    multidimensional space and their probabilities. The example in this\n",
    "    chapter is a two-dimensional space made up of the coordinates\n",
    "    `alpha` and `beta`. The joint distribution\n",
    "    represents the probability of each (`alpha`,\n",
    "    `beta`) pair.\n",
    "\n",
    "Marginal distribution:\n",
    ":   The distribution of one parameter in a joint distribution, treating\n",
    "    the other parameters as unknown. For example,\n",
    "    Figure 9.2 shows the distributions of\n",
    "    `alpha` and `beta` independently.\n",
    "\n",
    "Conditional distribution:\n",
    ":   The distribution of one parameter in a joint distribution,\n",
    "    conditioned on one or more of the other parameters.\n",
    "    Figure 9.4 several distributions for\n",
    "    `alpha`, conditioned on different values of\n",
    "    `beta`.\n",
    "\n",
    "Given the joint distribution, you can compute marginal and conditional\n",
    "distributions. With enough conditional distributions, you could\n",
    "re-create the joint distribution, at least approximately. But given the\n",
    "marginal distributions you cannot re-create the joint distribution\n",
    "because you have lost information about the dependence between\n",
    "variables.\n",
    "\n",
    "If there are $n$ possible values for each of two parameters, most\n",
    "operations on the joint distribution take time proportional to $n^2$. If\n",
    "there are $d$ parameters, run time is proportional to $n^d$, which\n",
    "quickly becomes impractical as the number of dimensions increases.\n",
    "\n",
    "If you can process a million hypotheses in a reasonable amount of time,\n",
    "you could handle two dimensions with 1000 values for each parameter, or\n",
    "three dimensions with 100 values each, or six dimensions with 10 values\n",
    "each.\n",
    "\n",
    "If you need more dimensions, or more values per dimension, there are\n",
    "optimizations you can try. I present an example in Chapter 15."
   ]
  },
  {
   "cell_type": "markdown",
   "metadata": {},
   "source": [
    "## 9.9 Exercises\n",
    "\n",
    "In our simple model, the opponent is equally likely to shoot in any\n",
    "direction. As an exercise, let’s consider improvements to this model.\n",
    "\n",
    "The analysis in this chapter suggests that a shooter is most likely to\n",
    "hit the closest wall. But in reality, if the opponent is close to a\n",
    "wall, he is unlikely to shoot at the wall because he is unlikely to see\n",
    "a target between himself and the wall.\n",
    "\n",
    "Design an improved model that takes this behavior into account. Try to\n",
    "find a model that is more realistic, but not too complicated."
   ]
  }
 ],
 "metadata": {
  "kernelspec": {
   "display_name": "Python 3",
   "language": "python",
   "name": "python3"
  },
  "language_info": {
   "codemirror_mode": {
    "name": "ipython",
    "version": 3
   },
   "file_extension": ".py",
   "mimetype": "text/x-python",
   "name": "python",
   "nbconvert_exporter": "python",
   "pygments_lexer": "ipython3",
   "version": "3.7.5"
  }
 },
 "nbformat": 4,
 "nbformat_minor": 4
}
